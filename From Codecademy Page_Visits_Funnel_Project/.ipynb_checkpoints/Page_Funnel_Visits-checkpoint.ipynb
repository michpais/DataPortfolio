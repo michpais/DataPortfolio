{
 "cells": [
  {
   "cell_type": "markdown",
   "metadata": {},
   "source": [
    "# Page Visits Funnel\n",
    "\n",
    "#### Cool T-Shirts Inc. has asked you to analyze data on visits to their website. Your job is to build a funnel, which is a description of how many people continue to the next step of a multi-step process.\n",
    "\n",
    "#### In this case, our funnel is going to describe the following process:\n",
    "\n",
    "    A user visits CoolTShirts.com\n",
    "    A user adds a t-shirt to their cart\n",
    "    A user clicks “checkout”\n",
    "    A user actually purchases a t-shirt"
   ]
  },
  {
   "cell_type": "code",
   "execution_count": 1,
   "metadata": {},
   "outputs": [],
   "source": [
    "import pandas as pd"
   ]
  },
  {
   "cell_type": "markdown",
   "metadata": {},
   "source": [
    "Import all the files"
   ]
  },
  {
   "cell_type": "code",
   "execution_count": 2,
   "metadata": {},
   "outputs": [],
   "source": [
    "visits = pd.read_csv('visits.csv',\n",
    "                     parse_dates=[1])\n",
    "cart = pd.read_csv('cart.csv',\n",
    "                   parse_dates=[1])\n",
    "                   \n",
    "checkout = pd.read_csv('checkout.csv',\n",
    "                       parse_dates=[1])\n",
    "purchase = pd.read_csv('purchase.csv',\n",
    "                       parse_dates=[1])"
   ]
  },
  {
   "cell_type": "markdown",
   "metadata": {},
   "source": [
    "Step 1: Inspect the DataFrames using `print` and `head` <br>\n",
    "\n",
    "    - visits lists all of the users who have visited the website\n",
    "    - cart lists all of the users who have added a t-shirt to their cart\n",
    "    - checkout lists all of the users who have started the checkout\n",
    "    - purchase lists all of the users who have purchased a t-shirt\n"
   ]
  },
  {
   "cell_type": "code",
   "execution_count": 3,
   "metadata": {},
   "outputs": [
    {
     "name": "stdout",
     "output_type": "stream",
     "text": [
      "                                user_id          visit_time\n",
      "0  943647ef-3682-4750-a2e1-918ba6f16188 2017-04-07 15:14:00\n",
      "1  0c3a3dd0-fb64-4eac-bf84-ba069ce409f2 2017-01-26 14:24:00\n",
      "2  6e0b2d60-4027-4d9a-babd-0e7d40859fb1 2017-08-20 08:23:00\n",
      "3  6879527e-c5a6-4d14-b2da-50b85212b0ab 2017-11-04 18:15:00\n",
      "4  a84327ff-5daa-4ba1-b789-d5b4caf81e96 2017-02-27 11:25:00\n",
      "                                user_id           cart_time\n",
      "0  2be90e7c-9cca-44e0-bcc5-124b945ff168 2017-11-07 20:45:00\n",
      "1  4397f73f-1da3-4ab3-91af-762792e25973 2017-05-27 01:35:00\n",
      "2  a9db3d4b-0a0a-4398-a55a-ebb2c7adf663 2017-03-04 10:38:00\n",
      "3  b594862a-36c5-47d5-b818-6e9512b939b3 2017-09-27 08:22:00\n",
      "4  a68a16e2-94f0-4ce8-8ce3-784af0bbb974 2017-07-26 15:48:00\n",
      "                                user_id       checkout_time\n",
      "0  d33bdc47-4afa-45bc-b4e4-dbe948e34c0d 2017-06-25 09:29:00\n",
      "1  4ac186f0-9954-4fea-8a27-c081e428e34e 2017-04-07 20:11:00\n",
      "2  3c9c78a7-124a-4b77-8d2e-e1926e011e7d 2017-07-13 11:38:00\n",
      "3  89fe330a-8966-4756-8f7c-3bdbcd47279a 2017-04-20 16:15:00\n",
      "4  3ccdaf69-2d30-40de-b083-51372881aedd 2017-01-08 20:52:00\n",
      "                                user_id       purchase_time\n",
      "0  4b44ace4-2721-47a0-b24b-15fbfa2abf85 2017-05-11 04:25:00\n",
      "1  02e684ae-a448-408f-a9ff-dcb4a5c99aac 2017-09-05 08:45:00\n",
      "2  4b4bc391-749e-4b90-ab8f-4f6e3c84d6dc 2017-11-20 20:49:00\n",
      "3  a5dbb25f-3c36-4103-9030-9f7c6241cd8d 2017-01-22 15:18:00\n",
      "4  46a3186d-7f5a-4ab9-87af-84d05bfd4867 2017-06-11 11:32:00\n"
     ]
    }
   ],
   "source": [
    "print(visits.head(5))\n",
    "print(cart.head(5))\n",
    "print(checkout.head(5))\n",
    "print(purchase.head(5))"
   ]
  },
  {
   "cell_type": "markdown",
   "metadata": {},
   "source": [
    "Step 2: Combine visits and cart using a left merge."
   ]
  },
  {
   "cell_type": "code",
   "execution_count": 4,
   "metadata": {},
   "outputs": [],
   "source": [
    "visits_cart = pd.merge(visits, cart, how='left')"
   ]
  },
  {
   "cell_type": "markdown",
   "metadata": {},
   "source": [
    "Step 3: How long is `visits_cart`?"
   ]
  },
  {
   "cell_type": "code",
   "execution_count": 5,
   "metadata": {},
   "outputs": [
    {
     "data": {
      "text/plain": [
       "2000"
      ]
     },
     "execution_count": 5,
     "metadata": {},
     "output_type": "execute_result"
    }
   ],
   "source": [
    "len(visits_cart)"
   ]
  },
  {
   "cell_type": "markdown",
   "metadata": {},
   "source": [
    "Step 4: How many of the timestamps are null for the column cart_time?\n",
    "\n",
    "What do these null rows mean?\n"
   ]
  },
  {
   "cell_type": "code",
   "execution_count": 6,
   "metadata": {},
   "outputs": [
    {
     "data": {
      "text/plain": [
       "1652"
      ]
     },
     "execution_count": 6,
     "metadata": {},
     "output_type": "execute_result"
    }
   ],
   "source": [
    "#visits_cart[visits_cart['cart_time'].isnull()]\n",
    "len(visits_cart[visits_cart['cart_time'].isnull()])"
   ]
  },
  {
   "cell_type": "markdown",
   "metadata": {},
   "source": [
    "Step 5: What percent of users who visited Cool T-Shirts Inc. ended up not placing a t-shirt in their cart?\n",
    "\n",
    "Note: To calculate percentages, it will be helpful to turn either the numerator or the denominator into a float, by using float(), with the number to convert passed in as input. Otherwise, Python will use integer division, which truncates decimal points."
   ]
  },
  {
   "cell_type": "code",
   "execution_count": 7,
   "metadata": {},
   "outputs": [
    {
     "name": "stdout",
     "output_type": "stream",
     "text": [
      "82.6%\n"
     ]
    }
   ],
   "source": [
    "percent_not_cart = (float(len(visits_cart[visits_cart['cart_time'].isnull()]))/float(len(visits_cart))) * 100\n",
    "print(str(percent_not_cart) + '%')"
   ]
  },
  {
   "cell_type": "markdown",
   "metadata": {},
   "source": [
    "Step 6: Repeat the left merge for cart and checkout and count null values. What percentage of users put items in their cart, but did not proceed to checkout?"
   ]
  },
  {
   "cell_type": "code",
   "execution_count": 8,
   "metadata": {
    "scrolled": true
   },
   "outputs": [
    {
     "name": "stdout",
     "output_type": "stream",
     "text": [
      "35.05747126436782%\n"
     ]
    }
   ],
   "source": [
    "visits_to_checkout = pd.merge(visits_cart, checkout, how='left')\n",
    "#visits_to_checkout.head()\n",
    "percent_not_checkout = (float(len(visits_to_checkout[visits_to_checkout['checkout_time'].isnull() & visits_to_checkout['cart_time'].notnull()]))/float(len(visits_to_checkout[visits_to_checkout['cart_time'].notnull()]))) * 100\n",
    "print(str(percent_not_checkout) + '%')"
   ]
  },
  {
   "cell_type": "markdown",
   "metadata": {},
   "source": [
    "Step 7: Merge all four steps of the funnel, in order, using a series of left merges. Save the results to the variable all_data.\n",
    "\n",
    "Examine the result using print and head."
   ]
  },
  {
   "cell_type": "code",
   "execution_count": 9,
   "metadata": {},
   "outputs": [
    {
     "data": {
      "text/html": [
       "<div>\n",
       "<style scoped>\n",
       "    .dataframe tbody tr th:only-of-type {\n",
       "        vertical-align: middle;\n",
       "    }\n",
       "\n",
       "    .dataframe tbody tr th {\n",
       "        vertical-align: top;\n",
       "    }\n",
       "\n",
       "    .dataframe thead th {\n",
       "        text-align: right;\n",
       "    }\n",
       "</style>\n",
       "<table border=\"1\" class=\"dataframe\">\n",
       "  <thead>\n",
       "    <tr style=\"text-align: right;\">\n",
       "      <th></th>\n",
       "      <th>user_id</th>\n",
       "      <th>visit_time</th>\n",
       "      <th>cart_time</th>\n",
       "      <th>checkout_time</th>\n",
       "      <th>purchase_time</th>\n",
       "    </tr>\n",
       "  </thead>\n",
       "  <tbody>\n",
       "    <tr>\n",
       "      <th>0</th>\n",
       "      <td>943647ef-3682-4750-a2e1-918ba6f16188</td>\n",
       "      <td>2017-04-07 15:14:00</td>\n",
       "      <td>NaT</td>\n",
       "      <td>NaT</td>\n",
       "      <td>NaT</td>\n",
       "    </tr>\n",
       "    <tr>\n",
       "      <th>1</th>\n",
       "      <td>0c3a3dd0-fb64-4eac-bf84-ba069ce409f2</td>\n",
       "      <td>2017-01-26 14:24:00</td>\n",
       "      <td>2017-01-26 14:44:00</td>\n",
       "      <td>2017-01-26 14:54:00</td>\n",
       "      <td>2017-01-26 15:08:00</td>\n",
       "    </tr>\n",
       "    <tr>\n",
       "      <th>2</th>\n",
       "      <td>6e0b2d60-4027-4d9a-babd-0e7d40859fb1</td>\n",
       "      <td>2017-08-20 08:23:00</td>\n",
       "      <td>2017-08-20 08:31:00</td>\n",
       "      <td>NaT</td>\n",
       "      <td>NaT</td>\n",
       "    </tr>\n",
       "    <tr>\n",
       "      <th>3</th>\n",
       "      <td>6879527e-c5a6-4d14-b2da-50b85212b0ab</td>\n",
       "      <td>2017-11-04 18:15:00</td>\n",
       "      <td>NaT</td>\n",
       "      <td>NaT</td>\n",
       "      <td>NaT</td>\n",
       "    </tr>\n",
       "    <tr>\n",
       "      <th>4</th>\n",
       "      <td>a84327ff-5daa-4ba1-b789-d5b4caf81e96</td>\n",
       "      <td>2017-02-27 11:25:00</td>\n",
       "      <td>NaT</td>\n",
       "      <td>NaT</td>\n",
       "      <td>NaT</td>\n",
       "    </tr>\n",
       "  </tbody>\n",
       "</table>\n",
       "</div>"
      ],
      "text/plain": [
       "                                user_id          visit_time  \\\n",
       "0  943647ef-3682-4750-a2e1-918ba6f16188 2017-04-07 15:14:00   \n",
       "1  0c3a3dd0-fb64-4eac-bf84-ba069ce409f2 2017-01-26 14:24:00   \n",
       "2  6e0b2d60-4027-4d9a-babd-0e7d40859fb1 2017-08-20 08:23:00   \n",
       "3  6879527e-c5a6-4d14-b2da-50b85212b0ab 2017-11-04 18:15:00   \n",
       "4  a84327ff-5daa-4ba1-b789-d5b4caf81e96 2017-02-27 11:25:00   \n",
       "\n",
       "            cart_time       checkout_time       purchase_time  \n",
       "0                 NaT                 NaT                 NaT  \n",
       "1 2017-01-26 14:44:00 2017-01-26 14:54:00 2017-01-26 15:08:00  \n",
       "2 2017-08-20 08:31:00                 NaT                 NaT  \n",
       "3                 NaT                 NaT                 NaT  \n",
       "4                 NaT                 NaT                 NaT  "
      ]
     },
     "execution_count": 9,
     "metadata": {},
     "output_type": "execute_result"
    }
   ],
   "source": [
    "all_data = pd.merge(visits_to_checkout, purchase, how='left')\n",
    "all_data.head()"
   ]
  },
  {
   "cell_type": "markdown",
   "metadata": {},
   "source": [
    "Step 8: What percentage of users proceeded to checkout, but did not purchase a t-shirt?"
   ]
  },
  {
   "cell_type": "code",
   "execution_count": 10,
   "metadata": {},
   "outputs": [
    {
     "name": "stdout",
     "output_type": "stream",
     "text": [
      "24.550898203592812%\n"
     ]
    }
   ],
   "source": [
    "percent_not_purchase = (float(len(all_data[all_data['purchase_time'].isnull() & all_data['checkout_time'].notnull()]))/float(len(all_data[all_data['checkout_time'].notnull()]))) * 100\n",
    "print(str(percent_not_purchase) + '%')\n"
   ]
  },
  {
   "cell_type": "markdown",
   "metadata": {},
   "source": [
    "Step 9: Which step of the funnel is weakest (i.e., has the highest percentage of users not completing it)?\n",
    "\n",
    "How might Cool T-Shirts Inc. change their website to fix this problem?\n"
   ]
  },
  {
   "cell_type": "code",
   "execution_count": 11,
   "metadata": {},
   "outputs": [
    {
     "name": "stdout",
     "output_type": "stream",
     "text": [
      "82.6% of users did not put a shirt in their cart\n",
      "35.05747126436782% of users did not proceed to checkout after adding to their cart\n",
      "24.550898203592812% of users did not purchase the shirt after checkout\n"
     ]
    }
   ],
   "source": [
    "print(str(percent_not_cart) + '% of users did not put a shirt in their cart')\n",
    "print(str(percent_not_checkout) + '% of users did not proceed to checkout after adding to their cart')\n",
    "print(str(percent_not_purchase) + '% of users did not purchase the shirt after checkout')"
   ]
  },
  {
   "cell_type": "markdown",
   "metadata": {},
   "source": [
    "*The weakest part of the funnel is clearly getting a person who visited the site to add a tshirt to their cart. Once they've added a t-shirt to their cart it is fairly likely they end up purchasing it. A suggestion could be to make the add-to-cart button more prominent on the front page.*\n",
    "\n",
    "\n",
    "Step 10: Using the giant merged DataFrame all_data that you created, let’s calculate the average time from initial visit to final purchase. Add a column that is the difference between purchase_time and visit_time. "
   ]
  },
  {
   "cell_type": "code",
   "execution_count": 12,
   "metadata": {},
   "outputs": [],
   "source": [
    "all_data['avg_purch_time'] = all_data['purchase_time'] - all_data['cart_time']"
   ]
  },
  {
   "cell_type": "markdown",
   "metadata": {},
   "source": [
    "Step 11: Examine the results by printing the new column to the screen."
   ]
  },
  {
   "cell_type": "code",
   "execution_count": 13,
   "metadata": {},
   "outputs": [
    {
     "data": {
      "text/html": [
       "<div>\n",
       "<style scoped>\n",
       "    .dataframe tbody tr th:only-of-type {\n",
       "        vertical-align: middle;\n",
       "    }\n",
       "\n",
       "    .dataframe tbody tr th {\n",
       "        vertical-align: top;\n",
       "    }\n",
       "\n",
       "    .dataframe thead th {\n",
       "        text-align: right;\n",
       "    }\n",
       "</style>\n",
       "<table border=\"1\" class=\"dataframe\">\n",
       "  <thead>\n",
       "    <tr style=\"text-align: right;\">\n",
       "      <th></th>\n",
       "      <th>user_id</th>\n",
       "      <th>visit_time</th>\n",
       "      <th>cart_time</th>\n",
       "      <th>checkout_time</th>\n",
       "      <th>purchase_time</th>\n",
       "      <th>avg_purch_time</th>\n",
       "    </tr>\n",
       "  </thead>\n",
       "  <tbody>\n",
       "    <tr>\n",
       "      <th>1</th>\n",
       "      <td>0c3a3dd0-fb64-4eac-bf84-ba069ce409f2</td>\n",
       "      <td>2017-01-26 14:24:00</td>\n",
       "      <td>2017-01-26 14:44:00</td>\n",
       "      <td>2017-01-26 14:54:00</td>\n",
       "      <td>2017-01-26 15:08:00</td>\n",
       "      <td>0 days 00:24:00</td>\n",
       "    </tr>\n",
       "    <tr>\n",
       "      <th>14</th>\n",
       "      <td>486480e2-98c3-4d51-8f4b-b1c07228ce84</td>\n",
       "      <td>2017-01-27 16:34:00</td>\n",
       "      <td>2017-01-27 16:44:00</td>\n",
       "      <td>2017-01-27 17:10:00</td>\n",
       "      <td>2017-01-27 17:12:00</td>\n",
       "      <td>0 days 00:28:00</td>\n",
       "    </tr>\n",
       "    <tr>\n",
       "      <th>31</th>\n",
       "      <td>1868e912-b38c-4ef0-8824-5665c42288e5</td>\n",
       "      <td>2017-03-17 11:48:00</td>\n",
       "      <td>2017-03-17 11:56:00</td>\n",
       "      <td>2017-03-17 11:58:00</td>\n",
       "      <td>NaT</td>\n",
       "      <td>NaT</td>\n",
       "    </tr>\n",
       "    <tr>\n",
       "      <th>48</th>\n",
       "      <td>3ccdaf69-2d30-40de-b083-51372881aedd</td>\n",
       "      <td>2017-01-08 20:21:00</td>\n",
       "      <td>2017-01-08 20:38:00</td>\n",
       "      <td>2017-01-08 20:52:00</td>\n",
       "      <td>2017-01-08 21:02:00</td>\n",
       "      <td>0 days 00:24:00</td>\n",
       "    </tr>\n",
       "    <tr>\n",
       "      <th>49</th>\n",
       "      <td>3ccdaf69-2d30-40de-b083-51372881aedd</td>\n",
       "      <td>2017-01-08 20:21:00</td>\n",
       "      <td>2017-01-08 20:38:00</td>\n",
       "      <td>2017-01-08 20:52:00</td>\n",
       "      <td>2017-01-08 21:21:00</td>\n",
       "      <td>0 days 00:43:00</td>\n",
       "    </tr>\n",
       "    <tr>\n",
       "      <th>54</th>\n",
       "      <td>dc5d8fe9-3321-4c86-b66d-7c343decdc4a</td>\n",
       "      <td>2017-09-13 13:06:00</td>\n",
       "      <td>2017-09-13 13:30:00</td>\n",
       "      <td>2017-09-13 13:26:00</td>\n",
       "      <td>NaT</td>\n",
       "      <td>NaT</td>\n",
       "    </tr>\n",
       "    <tr>\n",
       "      <th>65</th>\n",
       "      <td>ab0125fc-9493-4f59-ad70-24ad264a3a0c</td>\n",
       "      <td>2017-11-18 03:21:00</td>\n",
       "      <td>2017-11-18 03:33:00</td>\n",
       "      <td>2017-11-18 03:57:00</td>\n",
       "      <td>2017-11-18 04:21:00</td>\n",
       "      <td>0 days 00:48:00</td>\n",
       "    </tr>\n",
       "    <tr>\n",
       "      <th>70</th>\n",
       "      <td>ba65fa41-b88f-4ebc-8e66-7ade432f4f0d</td>\n",
       "      <td>2017-05-14 11:01:00</td>\n",
       "      <td>2017-05-14 11:21:00</td>\n",
       "      <td>2017-05-14 11:32:00</td>\n",
       "      <td>2017-05-14 11:35:00</td>\n",
       "      <td>0 days 00:14:00</td>\n",
       "    </tr>\n",
       "    <tr>\n",
       "      <th>71</th>\n",
       "      <td>ba65fa41-b88f-4ebc-8e66-7ade432f4f0d</td>\n",
       "      <td>2017-05-14 11:01:00</td>\n",
       "      <td>2017-05-14 11:21:00</td>\n",
       "      <td>2017-05-14 11:32:00</td>\n",
       "      <td>2017-05-14 11:36:00</td>\n",
       "      <td>0 days 00:15:00</td>\n",
       "    </tr>\n",
       "    <tr>\n",
       "      <th>72</th>\n",
       "      <td>ba65fa41-b88f-4ebc-8e66-7ade432f4f0d</td>\n",
       "      <td>2017-05-14 11:01:00</td>\n",
       "      <td>2017-05-14 11:21:00</td>\n",
       "      <td>2017-05-14 11:32:00</td>\n",
       "      <td>2017-05-14 11:54:00</td>\n",
       "      <td>0 days 00:33:00</td>\n",
       "    </tr>\n",
       "  </tbody>\n",
       "</table>\n",
       "</div>"
      ],
      "text/plain": [
       "                                 user_id          visit_time  \\\n",
       "1   0c3a3dd0-fb64-4eac-bf84-ba069ce409f2 2017-01-26 14:24:00   \n",
       "14  486480e2-98c3-4d51-8f4b-b1c07228ce84 2017-01-27 16:34:00   \n",
       "31  1868e912-b38c-4ef0-8824-5665c42288e5 2017-03-17 11:48:00   \n",
       "48  3ccdaf69-2d30-40de-b083-51372881aedd 2017-01-08 20:21:00   \n",
       "49  3ccdaf69-2d30-40de-b083-51372881aedd 2017-01-08 20:21:00   \n",
       "54  dc5d8fe9-3321-4c86-b66d-7c343decdc4a 2017-09-13 13:06:00   \n",
       "65  ab0125fc-9493-4f59-ad70-24ad264a3a0c 2017-11-18 03:21:00   \n",
       "70  ba65fa41-b88f-4ebc-8e66-7ade432f4f0d 2017-05-14 11:01:00   \n",
       "71  ba65fa41-b88f-4ebc-8e66-7ade432f4f0d 2017-05-14 11:01:00   \n",
       "72  ba65fa41-b88f-4ebc-8e66-7ade432f4f0d 2017-05-14 11:01:00   \n",
       "\n",
       "             cart_time       checkout_time       purchase_time  avg_purch_time  \n",
       "1  2017-01-26 14:44:00 2017-01-26 14:54:00 2017-01-26 15:08:00 0 days 00:24:00  \n",
       "14 2017-01-27 16:44:00 2017-01-27 17:10:00 2017-01-27 17:12:00 0 days 00:28:00  \n",
       "31 2017-03-17 11:56:00 2017-03-17 11:58:00                 NaT             NaT  \n",
       "48 2017-01-08 20:38:00 2017-01-08 20:52:00 2017-01-08 21:02:00 0 days 00:24:00  \n",
       "49 2017-01-08 20:38:00 2017-01-08 20:52:00 2017-01-08 21:21:00 0 days 00:43:00  \n",
       "54 2017-09-13 13:30:00 2017-09-13 13:26:00                 NaT             NaT  \n",
       "65 2017-11-18 03:33:00 2017-11-18 03:57:00 2017-11-18 04:21:00 0 days 00:48:00  \n",
       "70 2017-05-14 11:21:00 2017-05-14 11:32:00 2017-05-14 11:35:00 0 days 00:14:00  \n",
       "71 2017-05-14 11:21:00 2017-05-14 11:32:00 2017-05-14 11:36:00 0 days 00:15:00  \n",
       "72 2017-05-14 11:21:00 2017-05-14 11:32:00 2017-05-14 11:54:00 0 days 00:33:00  "
      ]
     },
     "execution_count": 13,
     "metadata": {},
     "output_type": "execute_result"
    }
   ],
   "source": [
    "all_data[all_data['checkout_time'].notnull()].head(10)"
   ]
  },
  {
   "cell_type": "markdown",
   "metadata": {},
   "source": [
    "Step 12: Calculate the average time to purchase by applying the .mean() function to your new column."
   ]
  },
  {
   "cell_type": "code",
   "execution_count": 15,
   "metadata": {},
   "outputs": [
    {
     "data": {
      "text/plain": [
       "Timedelta('0 days 00:28:49.761904761')"
      ]
     },
     "execution_count": 15,
     "metadata": {},
     "output_type": "execute_result"
    }
   ],
   "source": [
    "all_data['avg_purch_time'].mean()"
   ]
  },
  {
   "cell_type": "code",
   "execution_count": null,
   "metadata": {},
   "outputs": [],
   "source": []
  }
 ],
 "metadata": {
  "kernelspec": {
   "display_name": "Python 3 (ipykernel)",
   "language": "python",
   "name": "python3"
  },
  "language_info": {
   "codemirror_mode": {
    "name": "ipython",
    "version": 3
   },
   "file_extension": ".py",
   "mimetype": "text/x-python",
   "name": "python",
   "nbconvert_exporter": "python",
   "pygments_lexer": "ipython3",
   "version": "3.9.7"
  }
 },
 "nbformat": 4,
 "nbformat_minor": 4
}
