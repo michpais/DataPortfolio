{
 "cells": [
  {
   "cell_type": "markdown",
   "metadata": {},
   "source": [
    "# This is Jeopardy!"
   ]
  },
  {
   "cell_type": "markdown",
   "metadata": {},
   "source": [
    "#### Overview"
   ]
  },
  {
   "cell_type": "markdown",
   "metadata": {},
   "source": [
    "This project is slightly different than others you have encountered thus far. Instead of a step-by-step tutorial, this project contains a series of open-ended requirements which describe the project you'll be building. There are many possible ways to correctly fulfill all of these requirements, and you should expect to use the internet, Codecademy, and/or other resources when you encounter a problem that you cannot easily solve."
   ]
  },
  {
   "cell_type": "markdown",
   "metadata": {},
   "source": [
    "#### Project Goals"
   ]
  },
  {
   "cell_type": "markdown",
   "metadata": {},
   "source": [
    "You will work to write several functions that investigate a dataset of _Jeopardy!_ questions and answers. Filter the dataset for topics that you're interested in, compute the average difficulty of those questions, and train to become the next Jeopardy champion!"
   ]
  },
  {
   "cell_type": "markdown",
   "metadata": {},
   "source": [
    "## Prerequisites"
   ]
  },
  {
   "cell_type": "markdown",
   "metadata": {},
   "source": [
    "In order to complete this project, you should have completed the Pandas lessons in the <a href=\"https://www.codecademy.com/learn/paths/analyze-data-with-python\">Analyze Data with Python Skill Path</a>. You can also find those lessons in the <a href=\"https://www.codecademy.com/learn/data-processing-pandas\">Data Analysis with Pandas course</a> or the <a href=\"https://www.codecademy.com/learn/paths/data-science/\">Data Scientist Career Path</a>.\n",
    "\n",
    "Finally, the <a href=\"https://www.codecademy.com/learn/practical-data-cleaning\">Practical Data Cleaning</a> course may also be helpful."
   ]
  },
  {
   "cell_type": "markdown",
   "metadata": {},
   "source": [
    "## Project Requirements"
   ]
  },
  {
   "cell_type": "markdown",
   "metadata": {},
   "source": [
    "1. We've provided a csv file containing data about the game show _Jeopardy!_ in a file named `jeopardy.csv`. Load the data into a DataFrame and investigate its contents. Try to print out specific columns.\n",
    "\n",
    "   Note that in order to make this project as \"real-world\" as possible, we haven't modified the data at all - we're giving it to you exactly how we found it. As a result, this data isn't as \"clean\" as the datasets you normally find on Codecademy. More specifically, there's something odd about the column names. After you figure out the problem with the column names, you may want to rename them to make your life easier for the rest of the project.\n",
    "   \n",
    "   In order to display the full contents of a column, we've added this line of code for you:\n",
    "   \n",
    "   ```py\n",
    "   pd.set_option('display.max_colwidth', None)\n",
    "   ```"
   ]
  },
  {
   "cell_type": "code",
   "execution_count": null,
   "metadata": {},
   "outputs": [],
   "source": [
    "import pandas as pd\n",
    "from pandas import Series\n",
    "pd.set_option('display.max_colwidth', None)"
   ]
  },
  {
   "cell_type": "code",
   "execution_count": null,
   "metadata": {},
   "outputs": [],
   "source": [
    "# Importing data from jeopardy.csv file\n",
    "dataset = pd.read_csv('jeopardy.csv')\n",
    "# Remove the leading space in front of each column\n",
    "for column in range(7):\n",
    "    dataset.rename(columns={dataset.columns[column]: dataset.columns[column].lstrip()}, inplace=True)\n",
    "# Rename the columns with spaces to have underscores\n",
    "dataset.rename(columns={dataset.columns[0]: \"Show_Number\", dataset.columns[1]: \"Air_Date\"}, inplace=True)\n",
    "# Print data to view\n",
    "dataset.head()"
   ]
  },
  {
   "cell_type": "markdown",
   "metadata": {},
   "source": [
    "2. Write a function that filters the dataset for questions that contains all of the words in a list of words. For example, when the list `[\"King\", \"England\"]` was passed to our function, the function returned a DataFrame of 49 rows. Every row had the strings `\"King\"` and `\"England\"` somewhere in its `\" Question\"`.\n",
    "\n",
    "   Test your function by printing out the column containing the question of each row of the dataset."
   ]
  },
  {
   "cell_type": "code",
   "execution_count": null,
   "metadata": {},
   "outputs": [],
   "source": [
    "#def Question_Filter(word_list, dataset):\n",
    "#    filtered_dataset = dataset\n",
    "#    filtered_series = list(range(len(filtered_dataset.Question)))\n",
    "#    for question in range(0, len(filtered_dataset.Question)):\n",
    "#        filtered_series[question] = all(word in filtered_dataset.Question[question] for word in word_list)\n",
    "#    filtered_dataset['in_subset'] = Series(filtered_series)\n",
    "#    #filtered_dataset['in_subset'] = all(word in filtered_dataset.Question for word in word_list)\n",
    "#    #filtered_dataset['in_subset'] = filtered_dataset.apply()\n",
    "#    filtered_dataset = filtered_dataset[filtered_dataset['in_subset'] == True]\n",
    "#    #filtered_dataset.drop('in_subset', axis=1, inplace=True)\n",
    "#    return filtered_dataset\n",
    "#filtered_dataset = Question_Filter([\"King\", \"England\"], dataset)\n",
    "##filtered_dataset = dataset\n",
    "##filtered_dataset['in_subset'] = all(word in filtered_dataset.Question for word in [\"Galileo\"])\n",
    "##all(word in filtered_dataset.Question for word in [\"Galileo\"])\n",
    "##dataset[dataset.in_subset == True].head()\n",
    "#print(len(filtered_dataset.Question))\n",
    "#filtered_dataset.head()\n",
    "##print(len(Question_Filter([\"King\", \"England\"])))\n",
    "##teststring = \"The new King of England is Charles\"\n",
    "##teststring2 = \"The Queen of England has died\"\n",
    "#\n",
    "##print(all(word in teststring for word in [\"King\", \"England\"]))"
   ]
  },
  {
   "cell_type": "code",
   "execution_count": null,
   "metadata": {},
   "outputs": [],
   "source": [
    "# Define the function for the filter\n",
    "def Question_Filter(word_list, dataset):\n",
    "    # Create new dataframe variable so the dataframe that was input does not change\n",
    "    filtered_dataset = dataset\n",
    "    #does_contain = lambda j_question: all(word in j_question for word in word_list)  #### this was not used in final code\n",
    "    \n",
    "    # Create a flag for whether the Question should be included in the filter or not based on the word_list\n",
    "    filtered_dataset['in_subset'] = filtered_dataset.apply(lambda row: all(word in row.Question for word in word_list), axis=1) #does_contain(filtered_dataset.Question), axis=1) ### commented section not used in final code\n",
    "    \n",
    "    # Filter the dataset based on whether the flag is true or false\n",
    "    filtered_dataset = filtered_dataset[filtered_dataset['in_subset'] == True]\n",
    "\n",
    "    # Drop the flag column\n",
    "    filtered_dataset.drop('in_subset', axis=1, inplace=True)\n",
    "\n",
    "    return filtered_dataset\n",
    "\n",
    "# Test out filter function\n",
    "filtered_dataset = Question_Filter([\"King\", \"England\"], dataset)\n",
    "print(len(filtered_dataset.Question))\n",
    "filtered_dataset.head()"
   ]
  },
  {
   "cell_type": "markdown",
   "metadata": {},
   "source": [
    "3. Test your original function with a few different sets of words to try to find some ways your function breaks. Edit your function so it is more robust.\n",
    "\n",
    "   For example, think about capitalization. We probably want to find questions that contain the word `\"King\"` or `\"king\"`.\n",
    "   \n",
    "   You may also want to check to make sure you don't find rows that contain substrings of your given words. For example, our function found a question that didn't contain the word `\"king\"`, however it did contain the word `\"viking\"` &mdash; it found the `\"king\"` inside `\"viking\"`. Note that this also comes with some drawbacks &mdash; you would no longer find questions that contained words like `\"England's\"`."
   ]
  },
  {
   "cell_type": "code",
   "execution_count": null,
   "metadata": {},
   "outputs": [],
   "source": [
    "def robust_question_filter(word_list, dataset, casesensitive=True, wholeword=False):\n",
    "    # Create new dataframe variable so the dataframe that was input does not change\n",
    "    filtered_dataset = dataset\n",
    "\n",
    "    #If statements to determine which options should be used in filter\n",
    "    if casesensitive == True and wholeword == False:\n",
    "        filtered_dataset['in_subset'] = filtered_dataset.apply(lambda row: all(word in row.Question for word in word_list), axis=1)\n",
    "    elif casesensitive == True and wholeword == True:\n",
    "        filtered_dataset['in_subset'] = filtered_dataset.apply(lambda row: all((' ' + word + ' ') in row.Question for word in word_list), axis=1)\n",
    "    elif casesensitive == False and wholeword == True:\n",
    "        filtered_dataset['in_subset'] = filtered_dataset.apply(lambda row: all((' ' + word.lower() + ' ') in row.Question.lower() for word in word_list), axis=1)\n",
    "    elif casesensitive == False and wholeword == False:\n",
    "        filtered_dataset['in_subset'] = filtered_dataset.apply(lambda row: all(word.lower() in row.Question.lower() for word in word_list), axis=1)\n",
    "    \n",
    "    # Filter the dataset based on whether the flag is true or false\n",
    "    filtered_dataset = filtered_dataset[filtered_dataset['in_subset'] == True]\n",
    "\n",
    "    # Drop the flag column\n",
    "    filtered_dataset.drop('in_subset', axis=1, inplace=True)\n",
    "\n",
    "    # Added re-indexing after so that iteration can be done on the filtered dataset\n",
    "    filtered_dataset.reset_index(inplace=True, drop=True)\n",
    "\n",
    "    return filtered_dataset\n",
    "\n",
    "filtered_dataset = robust_question_filter([\"King\", \"England\"], dataset, casesensitive=True, wholeword=False)\n",
    "print(len(filtered_dataset.Question))\n",
    "filtered_dataset.head()"
   ]
  },
  {
   "cell_type": "markdown",
   "metadata": {},
   "source": [
    "4. We may want to eventually compute aggregate statistics, like `.mean()` on the `\" Value\"` column. But right now, the values in that column are strings. Convert the`\" Value\"` column to floats. If you'd like to, you can create a new column with float values.\n",
    "\n",
    "   Now that you can filter the dataset of question, use your new column that contains the float values of each question to find the \"difficulty\" of certain topics. For example, what is the average value of questions that contain the word `\"King\"`?\n",
    "   \n",
    "   Make sure to use the dataset that contains the float values as the dataset you use in your filtering function."
   ]
  },
  {
   "cell_type": "code",
   "execution_count": null,
   "metadata": {},
   "outputs": [],
   "source": [
    "# To convert the Value column to float values\n",
    "# Split the value column to remove the '$' string at the beginning of each value. Create a placeholder column for the blank values.\n",
    "dataset[['PlaceHolder', 'Value']] = dataset.Value.str.split('$',expand=True)\n",
    "# Remove the commas from the strings in the Value column\n",
    "dataset.Value = dataset.Value.str.replace(',','')\n",
    "# Drop the placeholder column and rename the Value column to Value_USD to keep the units (US Dollars, $)\n",
    "dataset.drop('PlaceHolder', axis=1, inplace=True)\n",
    "dataset.rename(columns={'Value': \"Value_USD\"}, inplace=True)\n",
    "# Convert the Value_USD column to a float datatype\n",
    "dataset.Value_USD = dataset.Value_USD.astype(float)\n",
    "print(len(dataset.Value_USD))\n",
    "dataset.head()\n"
   ]
  },
  {
   "cell_type": "code",
   "execution_count": null,
   "metadata": {},
   "outputs": [],
   "source": [
    "# Find the mean USD value for the questions that contain the word \"King\" (will keep case sensitivity and will match whole word)\n",
    "# Create the filtered dataset\n",
    "king_questions = robust_question_filter(['King'], dataset, casesensitive=True, wholeword=True)\n",
    "# Calculate the mean of the questions to the dataset\n",
    "avg_king_question_value = king_questions.Value_USD.mean()\n",
    "print('The average value of questions with \"King\" is: $' + str(round(avg_king_question_value,2)))\n",
    "print('There were ' + str(len(king_questions.Value_USD)) + ' questions with \"King')\n"
   ]
  },
  {
   "cell_type": "markdown",
   "metadata": {},
   "source": [
    "5. Write a function that returns the count of unique answers to all of the questions in a dataset. For example, after filtering the entire dataset to only questions containing the word `\"King\"`, we could then find all of the unique answers to those questions. The answer \"Henry VIII\" appeared 55 times and was the most common answer."
   ]
  },
  {
   "cell_type": "code",
   "execution_count": null,
   "metadata": {},
   "outputs": [],
   "source": [
    "# Create function to count quanitity of each unique answer\n",
    "def calculate_unique_answers(dataset):\n",
    "    # Best way to do this is to create a dictionary and if the key already exists in the dictionary, add one to the value\n",
    "    unique_answers = []\n",
    "    unique_counts = []\n",
    "    \n",
    "    for answer in range(0, len(dataset.Answer)):\n",
    "        if dataset.Answer[answer] in unique_answers:\n",
    "            unique_counts[unique_answers.index(dataset.Answer[answer])] += 1 #unique_answers[dataset.Answer[answer]][1] += 1\n",
    "        else:\n",
    "            unique_answers.append(dataset.Answer[answer])\n",
    "            unique_counts.append(1)\n",
    "#        try:\n",
    "#            unique_answers[dataset.Answer[answer]][1] += 1\n",
    "#        except:\n",
    "#            unique_answers[dataset.Answer[answer]] = 1\n",
    "#        if dataset.Answer[answer] in unique_answers.keys() == False:\n",
    "#            unique_answers[dataset.Answer[answer]] = 1\n",
    "#        if dataset.Answer[answer] in unique_answers.keys() == True:\n",
    "#            unique_answers[dataset.Answer[answer]] += 1\n",
    "\n",
    "# The above method works, but the better way may be to create a dataframe so it can be sorted rather than a dictionary\n",
    "    unique_answer_count = pd.DataFrame.from_dict([unique_answers, unique_counts]).transpose()\n",
    "    unique_answer_count.rename(columns={0: 'Answer', 1: 'Count'},inplace=True)\n",
    "    unique_answer_count.sort_values(by=['Count'],inplace=True,ascending=False)\n",
    "    unique_answer_count.reset_index(inplace=True, drop=True)\n",
    "        \n",
    "    return unique_answer_count\n",
    "\n",
    "calculate_unique_answers(king_questions)"
   ]
  },
  {
   "cell_type": "markdown",
   "metadata": {},
   "source": [
    "6. Explore from here! This is an incredibly rich dataset, and there are so many interesting things to discover. There are a few columns that we haven't even started looking at yet. Here are some ideas on ways to continue working with this data:\n",
    "\n",
    " * Investigate the ways in which questions change over time by filtering by the date. How many questions from the 90s use the word `\"Computer\"` compared to questions from the 2000s?\n",
    " * Is there a connection between the round and the category? Are you more likely to find certain categories, like `\"Literature\"` in Single Jeopardy or Double Jeopardy?\n",
    " * Build a system to quiz yourself. Grab random questions, and use the <a href=\"https://docs.python.org/3/library/functions.html#input\">input</a> function to get a response from the user. Check to see if that response was right or wrong."
   ]
  },
  {
   "cell_type": "code",
   "execution_count": null,
   "metadata": {},
   "outputs": [],
   "source": []
  },
  {
   "cell_type": "markdown",
   "metadata": {},
   "source": [
    "## Solution"
   ]
  },
  {
   "cell_type": "markdown",
   "metadata": {},
   "source": [
    "7. Compare your program to our <a href=\"https://content.codecademy.com/PRO/independent-practice-projects/jeopardy/jeopardy_solution.zip\">sample solution code</a> - remember, that your program might look different from ours (and probably will) and that's okay!"
   ]
  },
  {
   "cell_type": "markdown",
   "metadata": {},
   "source": [
    "8. Great work! Visit <a href=\"https://discuss.codecademy.com/t/this-is-jeopardy-challenge-project-python-pandas/462365\">our forums</a> to compare your project to our sample solution code. You can also learn how to host your own solution on GitHub so you can share it with other learners! Your solution might look different from ours, and that's okay! There are multiple ways to solve these projects, and you'll learn more by seeing others' code."
   ]
  },
  {
   "cell_type": "code",
   "execution_count": null,
   "metadata": {},
   "outputs": [],
   "source": []
  }
 ],
 "metadata": {
  "kernelspec": {
   "display_name": "Python 3.9.7 ('base')",
   "language": "python",
   "name": "python3"
  },
  "language_info": {
   "codemirror_mode": {
    "name": "ipython",
    "version": 3
   },
   "file_extension": ".py",
   "mimetype": "text/x-python",
   "name": "python",
   "nbconvert_exporter": "python",
   "pygments_lexer": "ipython3",
   "version": "3.9.7"
  },
  "vscode": {
   "interpreter": {
    "hash": "36ab7f9348c7d0662a1965af503f4376fbff05df74ea3a3ead8d3abcf8650cb8"
   }
  }
 },
 "nbformat": 4,
 "nbformat_minor": 2
}
