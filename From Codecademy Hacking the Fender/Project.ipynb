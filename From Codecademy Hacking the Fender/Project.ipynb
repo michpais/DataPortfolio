{
 "cells": [
  {
   "cell_type": "markdown",
   "id": "06b393e7",
   "metadata": {},
   "source": [
    "# Reading In The Passwords\n",
    "\n",
    "Are you there? We’ve opened up a communications link to The Fender‘s secret computer. We need you to write a program that will read in the compromised usernames and passwords that are stored in a file called \"passwords.csv\".\n",
    "\n",
    "First import the CSV module, since we’ll be needing it to parse the data."
   ]
  },
  {
   "cell_type": "code",
   "execution_count": 1,
   "id": "48ba3ee6",
   "metadata": {},
   "outputs": [],
   "source": [
    "import csv"
   ]
  },
  {
   "cell_type": "markdown",
   "id": "5674c626",
   "metadata": {},
   "source": [
    "We need to create a list of users whose passwords have been compromised, create a new list and save it to the variable compromised_users."
   ]
  },
  {
   "cell_type": "code",
   "execution_count": 2,
   "id": "d251cd32",
   "metadata": {},
   "outputs": [],
   "source": [
    "compromised_users = []"
   ]
  },
  {
   "cell_type": "markdown",
   "id": "b4ca01a8",
   "metadata": {},
   "source": [
    "Next we’ll need you to open up the file itself. Store it in a file object called password_file.\n",
    "\n",
    "Pass the password_file object holder to our CSV reader for parsing. Save the parsed csv.DictReader object as password_csv.\n",
    "\n",
    "Then we’ll want to iterate through each of the lines in the CSV.  Create a for loop and save each row of the CSV into the temporary variable password_row.\n",
    "\n",
    "Inside your for loop, print out password_row['Username']. This is the username of the person whose password was compromised.  Run your code, do you see a list of usernames?\n",
    "\n",
    "Remove the print statement. We want to add each username to the list of compromised_users. Use the list’s .append() method to add the username to compromised_users instead of printing them."
   ]
  },
  {
   "cell_type": "code",
   "execution_count": 6,
   "id": "b567a7ec",
   "metadata": {},
   "outputs": [],
   "source": [
    "with open('passwords.csv') as password_file:\n",
    "    password_csv = csv.DictReader(password_file)\n",
    "    for password_row in password_csv:\n",
    "        #print(password_row['Username'])\n",
    "        compromised_users.append(password_row['Username'])"
   ]
  },
  {
   "cell_type": "markdown",
   "id": "c0e138da",
   "metadata": {},
   "source": [
    "Exit out of your with block for \"passwords.csv\". We have all the data we need from that file.\n",
    "\n",
    "Start a new with block, opening a file called compromised_users.txt. Open this file in write-mode, saving the file object as compromised_user_file.\n",
    "\n",
    "Inside the new context-managed block opened by the with statement start a new for loop. Iterate over each of your compromised_users.\n",
    "\n",
    "Write the username of each compromised_user in compromised_users to compromised_user_file."
   ]
  },
  {
   "cell_type": "code",
   "execution_count": 8,
   "id": "84c4b8f9",
   "metadata": {},
   "outputs": [],
   "source": [
    "with open(\"compromised_users.txt\", 'w') as compromised_user_file:\n",
    "    for compromised_user in compromised_users:\n",
    "        compromised_user_file.write(compromised_user)"
   ]
  },
  {
   "cell_type": "markdown",
   "id": "aba9702b",
   "metadata": {},
   "source": [
    "Exit out of that with block. You’re doing great so far! We’ve got the data we need to employ as insurance against The Fender."
   ]
  },
  {
   "cell_type": "markdown",
   "id": "9c5913d3",
   "metadata": {},
   "source": [
    "# Notifying the boss\n",
    "\n",
    "Your boss needs to know that you were successful in retrieving that compromised data. We’ll need to send him an encoded message over the internet. Let’s use JSON to do that. First we’ll need to import the json module.\n",
    "\n",
    "Open a new JSON file in write-mode called boss_message.json. Save the file object to the variable boss_message.\n",
    "\n",
    "Create a Python dictionary object within your with statement that relays a boss message. Call this boss_message_dict. Give it a \"recipient\" key with a value \"The Boss\". Also give it a \"message\" key with the value \"Mission Success\".\n",
    "\n",
    "Write out boss_message_dict to boss_message using json.dump()."
   ]
  },
  {
   "cell_type": "code",
   "execution_count": 10,
   "id": "c36341f0",
   "metadata": {},
   "outputs": [],
   "source": [
    "import json\n",
    "\n",
    "with open('boss_message.json', 'w') as boss_message:\n",
    "    boss_message_dict = {'recipient': 'The Boss', 'message': 'Mission Success'}\n",
    "    json.dump(boss_message_dict, boss_message)"
   ]
  },
  {
   "cell_type": "markdown",
   "id": "26408316",
   "metadata": {},
   "source": [
    "# Scrambling the Password\n",
    "\n",
    "Now that we’ve safely recovered the compromised users we’ll want to remove the \"passwords.csv\" file completely. Create a new with block and open \"new_passwords.csv\" in write-mode. Save the file object to a variable called new_passwords_obj.\n",
    "\n",
    "Enemy of the people, Slash Null, is who we want The Fender to think was behind this attack. He has a signature, whenever he hacks someone he adds this signature to one of the files he touches. Save that as a multiline string to the variable slash_null_sig.\n",
    "\n",
    "Write slash_null_sig to new_passwords_obj. Now we have the file to replace passwords.csv with!"
   ]
  },
  {
   "cell_type": "code",
   "execution_count": 11,
   "id": "4af95eb2",
   "metadata": {},
   "outputs": [],
   "source": [
    "with open('new_passwords.csv', 'w') as new_passwords_obj:\n",
    "    slash_null_sig = \"\"\"\n",
    " _  _     ___   __  ____             \n",
    "/ )( \\   / __) /  \\(_  _)            \n",
    ") \\/ (  ( (_ \\(  O ) )(              \n",
    "\\____/   \\___/ \\__/ (__)             \n",
    " _  _   __    ___  __ _  ____  ____  \n",
    "/ )( \\ / _\\  / __)(  / )(  __)(    \\ \n",
    ") __ (/    \\( (__  )  (  ) _)  ) D ( \n",
    "\\_)(_/\\_/\\_/ \\___)(__\\_)(____)(____/ \n",
    "        ____  __     __   ____  _  _ \n",
    " ___   / ___)(  )   / _\\ / ___)/ )( \\\n",
    "(___)  \\___ \\/ (_/\\/    \\\\___ \\) __ (\n",
    "       (____/\\____/\\_/\\_/(____/\\_)(_/\n",
    " __ _  _  _  __    __                \n",
    "(  ( \\/ )( \\(  )  (  )               \n",
    "/    /) \\/ (/ (_/\\/ (_/\\             \n",
    "\\_)__)\\____/\\____/\\____/\n",
    "    \"\"\"\n",
    "    writer = csv.writer(new_passwords_obj)\n",
    "    writer.writerow(slash_null_sig)"
   ]
  },
  {
   "cell_type": "code",
   "execution_count": null,
   "id": "5ce0755c",
   "metadata": {},
   "outputs": [],
   "source": []
  }
 ],
 "metadata": {
  "kernelspec": {
   "display_name": "Python 3 (ipykernel)",
   "language": "python",
   "name": "python3"
  },
  "language_info": {
   "codemirror_mode": {
    "name": "ipython",
    "version": 3
   },
   "file_extension": ".py",
   "mimetype": "text/x-python",
   "name": "python",
   "nbconvert_exporter": "python",
   "pygments_lexer": "ipython3",
   "version": "3.9.7"
  }
 },
 "nbformat": 4,
 "nbformat_minor": 5
}
